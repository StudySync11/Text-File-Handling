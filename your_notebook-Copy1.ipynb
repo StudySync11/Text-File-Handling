{
 "cells": [
  {
   "cell_type": "markdown",
   "id": "c1f1deda",
   "metadata": {},
   "source": [
    "#  TEXT FILE HANDLING"
   ]
  },
  {
   "cell_type": "markdown",
   "id": "f3af3aaa",
   "metadata": {},
   "source": [
    "### 📘 WHAT ARE FILES IN PYTHON?"
   ]
  },
  {
   "cell_type": "markdown",
   "id": "5d1421f0",
   "metadata": {},
   "source": [
    "####  A file is a named location on disk to store data permanently. Python can work with two types of files:\n",
    "\n",
    "#### Text files: Store data in human-readable characters (like .txt, .csv, .log).\n",
    "\n",
    "#### Binary files: Store data in binary format (like images, videos, .exe, etc.).\n",
    "\n",
    "#### Python provides built-in functions and methods to create, read, write, and modify text files, which is very useful for data storage and processing."
   ]
  },
  {
   "cell_type": "markdown",
   "id": "4cb1980c",
   "metadata": {},
   "source": [
    "### ❓ WHY IS FILE HANDLING REQUIRED?"
   ]
  },
  {
   "cell_type": "markdown",
   "id": "71baebe4",
   "metadata": {},
   "source": [
    "#### 1. File handling is essential in programming for the following reasons:\n",
    "\n",
    "#### 2. Persistent Storage: Variables in Python exist only during program execution. Files help store data permanently.\n",
    "\n",
    "#### 3. Large Data Management: Ideal for handling large volumes of input/output without overloading memory.\n",
    "\n",
    "#### 4. Data Sharing: Files allow easy data exchange between programs and users.\n",
    "\n",
    "#### 5. Logging & Reporting: Many applications (e.g., banking, attendance systems) rely on files to log transactions or events.\n",
    "\n",
    "#### 6. Backup: Files can act as backups of critical data."
   ]
  },
  {
   "cell_type": "markdown",
   "id": "88f3e68a",
   "metadata": {},
   "source": [
    "### ✍️ OPENING AND CLOSING A TEXT FILE"
   ]
  },
  {
   "cell_type": "markdown",
   "id": "956d3aa4",
   "metadata": {},
   "source": [
    "## Opening a File: What is open()?"
   ]
  },
  {
   "cell_type": "markdown",
   "id": "41c03981",
   "metadata": {},
   "source": [
    "#### To access a file in Python, you must first open it using the open() function. This function returns a file object, which provides methods and attributes to interact with the file content."
   ]
  },
  {
   "cell_type": "markdown",
   "id": "47cca32a",
   "metadata": {},
   "source": [
    "file_object = open(\"filename.txt\", \"mode\")"
   ]
  },
  {
   "cell_type": "markdown",
   "id": "daa03e75",
   "metadata": {},
   "source": [
    "#### filename.txt: Name or path of the file.\n",
    "\n",
    "#### mode: A string that tells Python how to open the file."
   ]
  },
  {
   "cell_type": "markdown",
   "id": "a881d93b",
   "metadata": {},
   "source": [
    "| Mode  | Description                                             |\n",
    "|-------|---------------------------------------------------------|\n",
    "| 'r'   | Read mode. File must exist, or it raises an error.      |\n",
    "| 'w'   | Write mode. Creates a new file or overwrites an existing file. |\n",
    "| 'a'   | Append mode. Creates file if it doesn’t exist, writes at the end. |\n",
    "| 'r+'  | Read + Write. File must exist.                         |\n",
    "| 'w+'  | Write + Read. Overwrites existing content.              |\n",
    "| 'a+'  | Append + Read. Adds data to the end.                    |\n"
   ]
  },
  {
   "cell_type": "markdown",
   "id": "ba9350da",
   "metadata": {},
   "source": [
    "#### 📌 Important: If you're not sure whether a file exists or not and want to avoid overwriting, use 'a' or handle exceptions properly."
   ]
  },
  {
   "cell_type": "markdown",
   "id": "bf6657ac",
   "metadata": {},
   "source": [
    "## Closing a File"
   ]
  },
  {
   "cell_type": "markdown",
   "id": "724c812d",
   "metadata": {},
   "source": [
    "#### Always close files using .close() method to free memory."
   ]
  },
  {
   "cell_type": "code",
   "execution_count": null,
   "id": "1354667f",
   "metadata": {},
   "outputs": [],
   "source": [
    "f = open(\"sample.txt\", \"r\")\n",
    "# perform operations\n",
    "f.close()"
   ]
  },
  {
   "cell_type": "markdown",
   "id": "6ba4ec86",
   "metadata": {},
   "source": [
    "### ✅ Better Practice: Use with Statement"
   ]
  },
  {
   "cell_type": "code",
   "execution_count": null,
   "id": "b4e2d5b8",
   "metadata": {},
   "outputs": [],
   "source": [
    "with open(\"file.txt\", \"r\") as f:\n",
    "    data = f.read()\n",
    "# File is now closed"
   ]
  },
  {
   "cell_type": "markdown",
   "id": "91055554",
   "metadata": {},
   "source": [
    "## 📂 WRITING TO A TEXT FILE"
   ]
  },
  {
   "cell_type": "markdown",
   "id": "8b97aa0e",
   "metadata": {},
   "source": [
    "### Writing with "
   ]
  },
  {
   "cell_type": "code",
   "execution_count": 4,
   "id": "0f2002b2",
   "metadata": {},
   "outputs": [],
   "source": [
    "f = open(\"demo.txt\", \"w\")\n",
    "f.write(\"Hello Students!\\n\")\n",
    "f.write(\"This is AM Classes.\\n\")\n",
    "f.close()"
   ]
  },
  {
   "cell_type": "markdown",
   "id": "093d7b7e",
   "metadata": {},
   "source": [
    "#### Explanation:\n",
    "\n",
    "#### -Opens file in write mode.\n",
    "\n",
    "#### -Overwrites previous content.\n",
    "\n",
    "#### -Each call to write() writes data at the current file pointer location.\n",
    "\n",
    "#### -\\n ensures new line."
   ]
  },
  {
   "cell_type": "markdown",
   "id": "3bed39a6",
   "metadata": {},
   "source": [
    "### Writing Multiple Lines with "
   ]
  },
  {
   "cell_type": "code",
   "execution_count": 5,
   "id": "15b057f6",
   "metadata": {},
   "outputs": [],
   "source": [
    "lines = [\"Line 1\\n\", \"Line 2\\n\", \"Line 3\\n\"]\n",
    "f = open(\"file.txt\", \"w\")\n",
    "f.writelines(lines)\n",
    "f.close()"
   ]
  },
  {
   "cell_type": "markdown",
   "id": "3e0ebbe1",
   "metadata": {},
   "source": [
    "#### Explanation:\n",
    "\n",
    "#### -writelines() takes a list of strings.\n",
    "\n",
    "#### -Does not add newline characters automatically — you must include \\n in each string."
   ]
  },
  {
   "cell_type": "markdown",
   "id": "1ad5bd4a",
   "metadata": {},
   "source": [
    "## Appending to File\n",
    "\n",
    "f = open(\"demo.txt\", \"a\")\n",
    "\n",
    "f.write(\"This will not erase old data!\\n\")\n",
    "\n",
    "f.close()\n",
    "\n",
    "#### Explanation:\n",
    "\n",
    "#### -Opens file in append mode.\n",
    "\n",
    "#### -Adds content at the end of file without deleting previous data.\n",
    "\n"
   ]
  },
  {
   "cell_type": "markdown",
   "id": "58949843",
   "metadata": {},
   "source": [
    "\n",
    "## 🔍 READING FROM A TEXT FILE"
   ]
  },
  {
   "cell_type": "markdown",
   "id": "577f148e",
   "metadata": {},
   "source": [
    "## 1.  Full File as String\n",
    "\n",
    "#### Explanation:\n",
    "\n",
    "#### Reads the entire file content at once.\n",
    "\n",
    "#### Suitable for small-sized files."
   ]
  },
  {
   "cell_type": "code",
   "execution_count": 6,
   "id": "5b727c7c",
   "metadata": {},
   "outputs": [
    {
     "name": "stdout",
     "output_type": "stream",
     "text": [
      "Line 1\n",
      "Line 2\n",
      "Line 3\n",
      "\n"
     ]
    }
   ],
   "source": [
    "f = open(\"file.txt\", \"r\")\n",
    "data = f.read()\n",
    "print(data)\n",
    "f.close()"
   ]
  },
  {
   "cell_type": "markdown",
   "id": "ceb5a983",
   "metadata": {},
   "source": [
    "## 2.  One Line at a Time\n",
    "\n",
    "#### Explanation:\n",
    "\n",
    "#### -Reads one line per call.\n",
    "\n",
    "#### -Useful for line-by-line processing."
   ]
  },
  {
   "cell_type": "code",
   "execution_count": 7,
   "id": "74fe1311",
   "metadata": {},
   "outputs": [
    {
     "name": "stdout",
     "output_type": "stream",
     "text": [
      "Line 1\n",
      "\n",
      "Line 2\n",
      "\n"
     ]
    }
   ],
   "source": [
    "f = open(\"file.txt\", \"r\")\n",
    "line1 = f.readline()\n",
    "line2 = f.readline()\n",
    "print(line1)\n",
    "print(line2)\n",
    "f.close()"
   ]
  },
  {
   "cell_type": "markdown",
   "id": "a839dc85",
   "metadata": {},
   "source": [
    "## 3.  All Lines in List\n",
    "\n",
    "#### Explanation:\n",
    "\n",
    "####  -Returns a list where each element is a line from the file.\n",
    "\n",
    "####  -strip() removes \\n at the end."
   ]
  },
  {
   "cell_type": "code",
   "execution_count": 8,
   "id": "708e9eee",
   "metadata": {},
   "outputs": [
    {
     "name": "stdout",
     "output_type": "stream",
     "text": [
      "Line 1\n",
      "Line 2\n",
      "Line 3\n"
     ]
    }
   ],
   "source": [
    "f = open(\"file.txt\", \"r\")\n",
    "lines = f.readlines()\n",
    "for line in lines:\n",
    "    print(line.strip())\n",
    "f.close()"
   ]
  },
  {
   "cell_type": "markdown",
   "id": "c6c09603",
   "metadata": {},
   "source": [
    "## 4. Reading with Loop\n",
    "\n",
    "#### Explanation:\n",
    "\n",
    "#### -Efficient for large files.\n",
    "\n",
    "#### -Reads one line at a time."
   ]
  },
  {
   "cell_type": "code",
   "execution_count": 9,
   "id": "6fcfa2ea",
   "metadata": {},
   "outputs": [
    {
     "name": "stdout",
     "output_type": "stream",
     "text": [
      "Line 1\n",
      "Line 2\n",
      "Line 3\n"
     ]
    }
   ],
   "source": [
    "with open(\"file.txt\", \"r\") as f:\n",
    "    for line in f:\n",
    "        print(line.strip())"
   ]
  },
  {
   "cell_type": "markdown",
   "id": "d03776ce",
   "metadata": {},
   "source": [
    "\n",
    "\n",
    "\n",
    "## 📊 SHORT ANSWER PRACTICE QUESTIONS (1-2 Marks)"
   ]
  },
  {
   "cell_type": "markdown",
   "id": "2f53c39a",
   "metadata": {},
   "source": [
    "### 🔹 Concept-Based\n",
    "\n",
    "#### 1.What is the difference between text files and binary files in Python?\n",
    "\n",
    "#### 2 Name any two file modes used in Python.\n",
    "\n",
    "#### 3.Why is file handling needed in Python? Mention any one reason.\n",
    "\n",
    "#### 4.What does the open() function return in Python?\n",
    "\n",
    "#### 5.What is the default mode of the open() function?\n",
    "\n",
    "### 🔹 Function & Mode-Based\n",
    "\n",
    "#### 1.What does the file mode 'a' do?\n",
    "\n",
    "#### 2.Write a line of code to open a file data.txt in read and write mode.\n",
    "\n",
    "#### 3.Which function is used to close a file in Python?\n",
    "\n",
    "#### 4.What is the advantage of using with open() instead of just open()?\n",
    "\n",
    "#### 5.What is the purpose of tell() function?"
   ]
  },
  {
   "cell_type": "markdown",
   "id": "884c88d7",
   "metadata": {},
   "source": [
    "### 🔹 Code Output / Error Prediction\n",
    "\n",
    "#### Predict the output:\n",
    "\n",
    "f = open(\"demo.txt\", \"w\")\n",
    "\n",
    "f.write(\"Hello\")\n",
    "\n",
    "f.close()\n",
    "\n",
    "\n",
    "#### What error will occur if we try to open a non-existent file in 'r' mode?\n",
    "\n",
    "#### Identify the mistake:\n",
    "\n",
    "f = open(\"sample.txt\", \"w\")\n",
    "\n",
    "data = f.read()\n",
    "\n",
    "\n",
    "### 🔹 Reading/Writing Related\n",
    "\n",
    "####  1. Which method reads the file line by line into a list?\n",
    "\n",
    "####  2. Differentiate between readline() and readlines().\n",
    "\n",
    "####  How do you write multiple lines to a file using a list?\n",
    "\n",
    "### 🔹 Short Program-Based\n",
    "\n",
    "####  1. Write a single line of code to write \"Welcome\" into a file hello.txt.\n",
    "\n",
    "####  2. Write one line of Python code to read all lines from abc.txt and print them.\n",
    "\n",
    "### 🔹 Terminology or Usage\n",
    "\n",
    "#### 1. What does f.seek(0) do?\n",
    "\n",
    "#### 2. What is meant by the term \"file pointer\"?"
   ]
  },
  {
   "cell_type": "markdown",
   "id": "38913242",
   "metadata": {},
   "source": [
    "\n",
    "\n",
    "## 📘 PYQs (Previous Year Questions)"
   ]
  },
  {
   "cell_type": "markdown",
   "id": "3dc5b77c",
   "metadata": {},
   "source": [
    "### Q1. Write a Python program to create a text file “notes.txt”, input some lines and display the number of lines."
   ]
  },
  {
   "cell_type": "code",
   "execution_count": 10,
   "id": "2aa35d07",
   "metadata": {},
   "outputs": [
    {
     "name": "stdout",
     "output_type": "stream",
     "text": [
      "Enter a line: Hey I am Anu\n",
      "Enter a line: I love sports\n",
      "Enter a line: I study in mhs\n",
      "Number of lines: 3\n"
     ]
    }
   ],
   "source": [
    "f = open(\"notes.txt\", \"w\")\n",
    "for i in range(3):\n",
    "    line = input(\"Enter a line: \")\n",
    "    f.write(line + \"\\n\")\n",
    "f.close()\n",
    "\n",
    "f = open(\"notes.txt\", \"r\")\n",
    "print(\"Number of lines:\", len(f.readlines()))\n",
    "f.close()\n"
   ]
  },
  {
   "cell_type": "markdown",
   "id": "633bd53c",
   "metadata": {},
   "source": [
    "### Q2. Write a Python program to count and display the number of words in a file."
   ]
  },
  {
   "cell_type": "code",
   "execution_count": 11,
   "id": "e3dae98b",
   "metadata": {},
   "outputs": [
    {
     "name": "stdout",
     "output_type": "stream",
     "text": [
      "Total words: 6\n"
     ]
    }
   ],
   "source": [
    "f = open(\"demo.txt\", \"r\")\n",
    "text = f.read()\n",
    "print(\"Total words:\", len(text.split()))\n",
    "f.close()"
   ]
  },
  {
   "cell_type": "markdown",
   "id": "dcd8e03b",
   "metadata": {},
   "source": [
    "### Q3. Write a program to copy the content of one file into another."
   ]
  },
  {
   "cell_type": "code",
   "execution_count": null,
   "id": "8b6f3a51",
   "metadata": {},
   "outputs": [],
   "source": [
    "with open(\"source.txt\", \"r\") as f1:\n",
    "    with open(\"target.txt\", \"w\") as f2:\n",
    "        f2.write(f1.read())"
   ]
  },
  {
   "cell_type": "markdown",
   "id": "82701257",
   "metadata": {},
   "source": [
    "### Q4. Write a program to display all lines in a file that begin with ‘A’."
   ]
  },
  {
   "cell_type": "code",
   "execution_count": null,
   "id": "ca835c27",
   "metadata": {},
   "outputs": [],
   "source": [
    "with open(\"data.txt\", \"r\") as f:\n",
    "    for line in f:\n",
    "        if line.startswith(\"A\"):\n",
    "            print(line.strip())\n",
    "            "
   ]
  },
  {
   "cell_type": "markdown",
   "id": "d3d2d621",
   "metadata": {},
   "source": [
    "# -------------------------------------------------------------------------------------------------------------"
   ]
  },
  {
   "cell_type": "code",
   "execution_count": null,
   "id": "de03f389",
   "metadata": {},
   "outputs": [],
   "source": []
  }
 ],
 "metadata": {
  "kernelspec": {
   "display_name": "Python 3 (ipykernel)",
   "language": "python",
   "name": "python3"
  },
  "language_info": {
   "codemirror_mode": {
    "name": "ipython",
    "version": 3
   },
   "file_extension": ".py",
   "mimetype": "text/x-python",
   "name": "python",
   "nbconvert_exporter": "python",
   "pygments_lexer": "ipython3",
   "version": "3.11.7"
  }
 },
 "nbformat": 4,
 "nbformat_minor": 5
}
